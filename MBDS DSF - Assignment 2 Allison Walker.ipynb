{
  "nbformat": 4,
  "nbformat_minor": 0,
  "metadata": {
    "colab": {
      "name": "Assignment 2: text mining - Allison Walker",
      "version": "0.3.2",
      "provenance": [],
      "collapsed_sections": []
    },
    "kernelspec": {
      "display_name": "Python 3",
      "language": "python",
      "name": "python3"
    }
  },
  "cells": [
    {
      "metadata": {
        "id": "1Wwou9dWBX6f",
        "colab_type": "text"
      },
      "cell_type": "markdown",
      "source": [
        "![BTS](https://github.com/Juanlu001/bts-mbds-data-science-foundations/blob/master/sessions/img/Logo-BTS.jpg?raw=1)\n",
        "\n",
        "# Session 5: Text Mining (II)\n",
        "\n",
        "### Juan Luis Cano Rodríguez <juan.cano@bts.tech> - Data Science Foundations (2018-10-19)\n",
        "\n",
        "Open this notebook in Google Colaboratory: [![Open in Colab](https://colab.research.google.com/assets/colab-badge.svg)](https://colab.research.google.com/github/Juanlu001/bts-mbds-data-science-foundations/blob/master/sessions/05-Text-Mining-II.ipynb)"
      ]
    },
    {
      "metadata": {
        "id": "Q3EcD7N2BX6i",
        "colab_type": "code",
        "colab": {}
      },
      "cell_type": "code",
      "source": [
        "# Source: http://billchambers.me/tutorials/2014/12/21/tf-idf-explained-in-python.html\n",
        "\n",
        "t0 = \"China has a strong economy that is growing at a rapid pace. However politically it differs greatly from the US Economy.\"\n",
        "t1 = \"At last, China seems serious about confronting an endemic problem: domestic violence and corruption.\"\n",
        "t2 = \"Japan's prime minister, Shinzo Abe, is working towards healing the economic turmoil in his own country for his view on the future of his people.\"\n",
        "t3 = \"Vladimir Putin is working hard to fix the economy in Russia as the Ruble has tumbled.\"\n",
        "t4 = \"What's the future of Abenomics? We asked Shinzo Abe for his views\"\n",
        "t5 = \"Obama has eased sanctions on Cuba while accelerating those against the Russian Economy, even as the Ruble's value falls almost daily.\"\n",
        "t6 = \"Vladimir Putin was found to be riding a horse, again, without a shirt on while hunting deer. Vladimir Putin always seems so serious about things - even riding horses.\""
      ],
      "execution_count": 0,
      "outputs": []
    },
    {
      "metadata": {
        "id": "nstPq2aeBX8O",
        "colab_type": "text"
      },
      "cell_type": "markdown",
      "source": [
        "## Exercise 2: TF-IDF\n",
        "\n",
        "1. Write a function `tf` that receives a string and a spaCy `Doc` and returns the number of times the word appears in the `lemmatize`d `Doc`\n",
        "2. Write a function `idf` that receives a string and a list of spaCy `Doc`s and returns _the inverse of_ the number of docs that contain the word\n",
        "3. Write a function `tf_idf` that receives a string, a spaCy `Doc` and a list of spaCy `Doc`s and returns the product of `tf(t, d) · idf(t, D)`.\n",
        "4. Write a function `all_lemmas` that receives a list of `Doc`s and returns a `set` of all available `lemma`s\n",
        "5. Write a function `tf_idf_doc` that receives a `Doc` and a list of `Doc`s and returns a dictionary of `{lemma: TF-IDF value}`, corresponding to each the lemmas of all the available documents\n",
        "6. Write a function `tf_idf_scores` that receives a list of `Doc`s and returns a `DataFrame` displaying the lemmas in the columns and the documents in the rows.\n",
        "7. Visualize the TF-IDF, like this:\n",
        "\n",
        "![TF-IDF](https://github.com/Juanlu001/bts-mbds-data-science-foundations/blob/master/sessions/img/tf-idf.png?raw=1)"
      ]
    },
    {
      "metadata": {
        "id": "6XUI-gB7BmlK",
        "colab_type": "text"
      },
      "cell_type": "markdown",
      "source": [
        " **1. Write a function tf that receives a string and a spaCy Doc and returns the number of times the word appears in the lemmatized Doc**"
      ]
    },
    {
      "metadata": {
        "id": "MUg76SPzFHDB",
        "colab_type": "text"
      },
      "cell_type": "markdown",
      "source": [
        "* First we must import all relevant libraries.\n",
        "* I converted all text files to spaCy docs using nlp.\n",
        "* I defined a **lemmatize** function that receives a spaCy doc and returns all lemmatized words, and excludes punctuation, spaces and stop-words.\n",
        "* I defined a **tf** function that receives a word and a spaCy doc and a word, lemmatizes the doc using the function defined earlier, and uses .count( ) to count the number of times the word occurs in the lemmatized doc. \n",
        "\n",
        "\n",
        "\n",
        "\n",
        "\n"
      ]
    },
    {
      "metadata": {
        "id": "0uVkYKdFBX8P",
        "colab_type": "code",
        "colab": {
          "base_uri": "https://localhost:8080/",
          "height": 258
        },
        "outputId": "7238cac7-cc6f-45f8-e3a9-feaf55e47e93"
      },
      "cell_type": "code",
      "source": [
        "import spacy\n",
        "import sys\n",
        "!{sys.executable} -m spacy download en\n",
        "nlp = spacy.load(\"en\")\n",
        "from spacy.lang.en.stop_words import STOP_WORDS"
      ],
      "execution_count": 7,
      "outputs": [
        {
          "output_type": "stream",
          "text": [
            "Collecting en_core_web_sm==2.0.0 from https://github.com/explosion/spacy-models/releases/download/en_core_web_sm-2.0.0/en_core_web_sm-2.0.0.tar.gz#egg=en_core_web_sm==2.0.0\n",
            "\u001b[?25l  Downloading https://github.com/explosion/spacy-models/releases/download/en_core_web_sm-2.0.0/en_core_web_sm-2.0.0.tar.gz (37.4MB)\n",
            "\u001b[K    100% |████████████████████████████████| 37.4MB 58.5MB/s \n",
            "\u001b[?25hInstalling collected packages: en-core-web-sm\n",
            "  Running setup.py install for en-core-web-sm ... \u001b[?25l-\b \b\\\b \b|\b \bdone\n",
            "\u001b[?25hSuccessfully installed en-core-web-sm-2.0.0\n",
            "\n",
            "\u001b[93m    Linking successful\u001b[0m\n",
            "    /usr/local/lib/python3.6/dist-packages/en_core_web_sm -->\n",
            "    /usr/local/lib/python3.6/dist-packages/spacy/data/en\n",
            "\n",
            "    You can now load the model via spacy.load('en')\n",
            "\n"
          ],
          "name": "stdout"
        }
      ]
    },
    {
      "metadata": {
        "id": "iYko2erdB1_h",
        "colab_type": "code",
        "colab": {}
      },
      "cell_type": "code",
      "source": [
        "#convert into spaCy docs\n",
        "doc0 = nlp(t0)\n",
        "doc1 = nlp(t1)\n",
        "doc2 = nlp(t2)\n",
        "doc3 = nlp(t3)\n",
        "doc4 = nlp(t4)\n",
        "doc5 = nlp(t5)\n",
        "doc6 = nlp(t6)"
      ],
      "execution_count": 0,
      "outputs": []
    },
    {
      "metadata": {
        "id": "YBaXASOZDtA8",
        "colab_type": "code",
        "colab": {
          "base_uri": "https://localhost:8080/",
          "height": 156
        },
        "outputId": "b86c46b0-3f5b-4cb6-ef52-260f63cdeb68"
      },
      "cell_type": "code",
      "source": [
        "print(doc0)\n",
        "print(doc1)\n",
        "print(doc2)\n",
        "print(doc3)\n",
        "print(doc4)\n",
        "print(doc5)\n",
        "print(doc6)"
      ],
      "execution_count": 9,
      "outputs": [
        {
          "output_type": "stream",
          "text": [
            "China has a strong economy that is growing at a rapid pace. However politically it differs greatly from the US Economy.\n",
            "At last, China seems serious about confronting an endemic problem: domestic violence and corruption.\n",
            "Japan's prime minister, Shinzo Abe, is working towards healing the economic turmoil in his own country for his view on the future of his people.\n",
            "Vladimir Putin is working hard to fix the economy in Russia as the Ruble has tumbled.\n",
            "What's the future of Abenomics? We asked Shinzo Abe for his views\n",
            "Obama has eased sanctions on Cuba while accelerating those against the Russian Economy, even as the Ruble's value falls almost daily.\n",
            "Vladimir Putin was found to be riding a horse, again, without a shirt on while hunting deer. Vladimir Putin always seems so serious about things - even riding horses.\n"
          ],
          "name": "stdout"
        }
      ]
    },
    {
      "metadata": {
        "id": "Jyj7UNO9CA0D",
        "colab_type": "code",
        "colab": {}
      },
      "cell_type": "code",
      "source": [
        "def lemmatize(doc):\n",
        "  return [\n",
        "      token.lemma_ for token in doc\n",
        "      if not token.is_punct and not token.is_space and not token.lower_ in STOP_WORDS\n",
        "  ]"
      ],
      "execution_count": 0,
      "outputs": []
    },
    {
      "metadata": {
        "id": "mPraxzLrDpem",
        "colab_type": "code",
        "colab": {
          "base_uri": "https://localhost:8080/",
          "height": 238
        },
        "outputId": "559c3bf3-1af5-4ae3-d7f0-5fa17df879d0"
      },
      "cell_type": "code",
      "source": [
        "lemmatize(doc6)"
      ],
      "execution_count": 11,
      "outputs": [
        {
          "output_type": "execute_result",
          "data": {
            "text/plain": [
              "['vladimir',\n",
              " 'putin',\n",
              " 'find',\n",
              " 'rid',\n",
              " 'horse',\n",
              " 'shirt',\n",
              " 'hunt',\n",
              " 'deer',\n",
              " 'vladimir',\n",
              " 'putin',\n",
              " 'thing',\n",
              " 'rid',\n",
              " 'horse']"
            ]
          },
          "metadata": {
            "tags": []
          },
          "execution_count": 11
        }
      ]
    },
    {
      "metadata": {
        "id": "fakGHcdXCBWC",
        "colab_type": "code",
        "colab": {}
      },
      "cell_type": "code",
      "source": [
        "def tf(str, doc):\n",
        "  \n",
        "  return lemmatize(doc).count(str)"
      ],
      "execution_count": 0,
      "outputs": []
    },
    {
      "metadata": {
        "id": "FZNhE1fSDoMO",
        "colab_type": "code",
        "colab": {
          "base_uri": "https://localhost:8080/",
          "height": 34
        },
        "outputId": "00fd427f-167e-41f3-f4c9-179100d5e6e6"
      },
      "cell_type": "code",
      "source": [
        "tf(\"vladimir\", doc6)"
      ],
      "execution_count": 13,
      "outputs": [
        {
          "output_type": "execute_result",
          "data": {
            "text/plain": [
              "2"
            ]
          },
          "metadata": {
            "tags": []
          },
          "execution_count": 13
        }
      ]
    },
    {
      "metadata": {
        "id": "sVXnHo7GCZMF",
        "colab_type": "text"
      },
      "cell_type": "markdown",
      "source": [
        "**2. Write a function idf that receives a string and a list of spaCy Docs and returns the inverse of the number of docs that contain the word**"
      ]
    },
    {
      "metadata": {
        "id": "_RvQLVzqG9Bn",
        "colab_type": "text"
      },
      "cell_type": "markdown",
      "source": [
        "* The first step is to define docs: our list of strings converted into spaCy docs.\n",
        "* I defined a function **idf** that receives a word and the list of spaCy docs. The function iterates over every doc in our list of docs, lemmatizes it using the earlier function, and counts how many times the string (lemmatized and joined in case two words are inputed)\n",
        "* If the count of the word in the doc is greater than 0, 1 is added to our new **count** variable. The function then returns the inverse of the number of docs (1 divided by the count.)\n",
        "* Note: I have included * if count == 0: return 0 * to avoid the issue of dividing by nothing in future questions."
      ]
    },
    {
      "metadata": {
        "id": "tB2WQFKsCeUW",
        "colab_type": "code",
        "colab": {}
      },
      "cell_type": "code",
      "source": [
        "docs = [nlp(i) for i in (t0, t1, t2, t3, t4, t5, t6)]"
      ],
      "execution_count": 0,
      "outputs": []
    },
    {
      "metadata": {
        "id": "F7cXO1lVDmpS",
        "colab_type": "code",
        "colab": {
          "base_uri": "https://localhost:8080/",
          "height": 34
        },
        "outputId": "8a17654a-4bf8-422b-8570-5cfcd5038f81"
      },
      "cell_type": "code",
      "source": [
        "len(docs)"
      ],
      "execution_count": 15,
      "outputs": [
        {
          "output_type": "execute_result",
          "data": {
            "text/plain": [
              "7"
            ]
          },
          "metadata": {
            "tags": []
          },
          "execution_count": 15
        }
      ]
    },
    {
      "metadata": {
        "id": "0NHSCUXqChR6",
        "colab_type": "code",
        "colab": {}
      },
      "cell_type": "code",
      "source": [
        "def idf(str, list):\n",
        "  count = 0\n",
        "  \n",
        "  for doc in list:\n",
        "    \n",
        "    if lemmatize(doc).count(\"\".join(lemmatize(nlp(str)))) > 0: \n",
        "        count += 1\n",
        "        \n",
        "  if count == 0:\n",
        "    return 0\n",
        "    \n",
        "  return 1/count"
      ],
      "execution_count": 0,
      "outputs": []
    },
    {
      "metadata": {
        "id": "e96CSxORDk49",
        "colab_type": "code",
        "colab": {
          "base_uri": "https://localhost:8080/",
          "height": 34
        },
        "outputId": "d72f6d05-a16b-42f3-e1cd-3d8910f7d2cc"
      },
      "cell_type": "code",
      "source": [
        "idf(\"a horse\", docs)"
      ],
      "execution_count": 17,
      "outputs": [
        {
          "output_type": "execute_result",
          "data": {
            "text/plain": [
              "1.0"
            ]
          },
          "metadata": {
            "tags": []
          },
          "execution_count": 17
        }
      ]
    },
    {
      "metadata": {
        "id": "4UyU8yWcCzP1",
        "colab_type": "text"
      },
      "cell_type": "markdown",
      "source": [
        "**3. Write a function tf_idf that receives a string, a spaCy Doc and a list of spaCy Docs and returns the product of tf(t, d) · idf(t, D).**"
      ]
    },
    {
      "metadata": {
        "id": "uOTjo0QfIbLM",
        "colab_type": "text"
      },
      "cell_type": "markdown",
      "source": [
        "* This step is simple: calculating the tf_idf requires the tf and idf functions be multipled together. I defined a function **tf_idf** that receives a word, a spaCy doc and a list of spaCy docs, and returns the tf_idf for those inputs.\n"
      ]
    },
    {
      "metadata": {
        "id": "y6z0dRy_CvGf",
        "colab_type": "code",
        "colab": {}
      },
      "cell_type": "code",
      "source": [
        "def tf_idf(str, doc, list):\n",
        "  \n",
        "  return tf(str, doc) * idf(str, list)"
      ],
      "execution_count": 0,
      "outputs": []
    },
    {
      "metadata": {
        "id": "atNrjMX_Di7a",
        "colab_type": "code",
        "colab": {
          "base_uri": "https://localhost:8080/",
          "height": 34
        },
        "outputId": "3db051b4-6232-4ee2-dd43-5ce7ae2d95fa"
      },
      "cell_type": "code",
      "source": [
        "tf_idf(\"vladimir\", doc6, docs)"
      ],
      "execution_count": 19,
      "outputs": [
        {
          "output_type": "execute_result",
          "data": {
            "text/plain": [
              "1.0"
            ]
          },
          "metadata": {
            "tags": []
          },
          "execution_count": 19
        }
      ]
    },
    {
      "metadata": {
        "id": "haq15Pf3DDLN",
        "colab_type": "text"
      },
      "cell_type": "markdown",
      "source": [
        "**4. Write a function all_lemmas that receives a list of Docs and returns a set of all available lemmas**"
      ]
    },
    {
      "metadata": {
        "id": "CBwyVJ5hJCK7",
        "colab_type": "text"
      },
      "cell_type": "markdown",
      "source": [
        "* I defined a function **all_lemmas** that receives a list of spaCy docs. Within this function a new variable **lemmas** is defined as an empty set. This function then iterates over each doc in the list, and will add the lemmas from each doc to the set. The '|=' union formula ensures that only new lemmas are added to the **lemmas** variable for each new doc that the function iterates over. "
      ]
    },
    {
      "metadata": {
        "id": "au4sWdj6JyGI",
        "colab_type": "code",
        "colab": {}
      },
      "cell_type": "code",
      "source": [
        ""
      ],
      "execution_count": 0,
      "outputs": []
    },
    {
      "metadata": {
        "id": "BkncCiKVC72s",
        "colab_type": "code",
        "colab": {}
      },
      "cell_type": "code",
      "source": [
        "def all_lemmas(list):\n",
        "  \n",
        "  lemmas = set()\n",
        "  for doc in docs:\n",
        "    lemmas |= set(lemmatize(doc))\n",
        "\n",
        "  return lemmas"
      ],
      "execution_count": 0,
      "outputs": []
    },
    {
      "metadata": {
        "id": "LZ2KB8DXDJZs",
        "colab_type": "code",
        "colab": {
          "base_uri": "https://localhost:8080/",
          "height": 952
        },
        "outputId": "19837342-6790-4ef1-a8e0-ed7418961492"
      },
      "cell_type": "code",
      "source": [
        "all_lemmas(docs)"
      ],
      "execution_count": 21,
      "outputs": [
        {
          "output_type": "execute_result",
          "data": {
            "text/plain": [
              "{\"'s\",\n",
              " 'abe',\n",
              " 'abenomics',\n",
              " 'accelerate',\n",
              " 'ask',\n",
              " 'be',\n",
              " 'china',\n",
              " 'confront',\n",
              " 'corruption',\n",
              " 'country',\n",
              " 'cuba',\n",
              " 'daily',\n",
              " 'deer',\n",
              " 'differ',\n",
              " 'domestic',\n",
              " 'ease',\n",
              " 'economic',\n",
              " 'economy',\n",
              " 'endemic',\n",
              " 'fall',\n",
              " 'find',\n",
              " 'fix',\n",
              " 'future',\n",
              " 'greatly',\n",
              " 'grow',\n",
              " 'hard',\n",
              " 'heal',\n",
              " 'horse',\n",
              " 'hunt',\n",
              " 'japan',\n",
              " 'minister',\n",
              " 'obama',\n",
              " 'pace',\n",
              " 'people',\n",
              " 'politically',\n",
              " 'prime',\n",
              " 'problem',\n",
              " 'putin',\n",
              " 'rapid',\n",
              " 'rid',\n",
              " 'ruble',\n",
              " 'russia',\n",
              " 'russian',\n",
              " 'sanction',\n",
              " 'shinzo',\n",
              " 'shirt',\n",
              " 'strong',\n",
              " 'thing',\n",
              " 'tumble',\n",
              " 'turmoil',\n",
              " 'value',\n",
              " 'view',\n",
              " 'violence',\n",
              " 'vladimir',\n",
              " 'work'}"
            ]
          },
          "metadata": {
            "tags": []
          },
          "execution_count": 21
        }
      ]
    },
    {
      "metadata": {
        "id": "aOC0X_uZDMjc",
        "colab_type": "text"
      },
      "cell_type": "markdown",
      "source": [
        "**5. Write a function tf_idf_doc that receives a Doc and a list of Docs and returns a dictionary of {lemma: TF-IDF value}, corresponding to each the lemmas of all the available documents**"
      ]
    },
    {
      "metadata": {
        "id": "QjXtqw47J0jk",
        "colab_type": "text"
      },
      "cell_type": "markdown",
      "source": [
        "* I defined a function **tf_idf_doc** that receives a doc and list of docs. Withiin this function an empty dictionary is defined. For each lemma in the set of lemmas of the received list (using the earlier function **all_lemmas**), a new item is added to the dictionary using the lemma as the key and the tf_idf as the value (using the earlier function **tf_idf**)."
      ]
    },
    {
      "metadata": {
        "id": "A9SAJP1uDKSs",
        "colab_type": "code",
        "colab": {}
      },
      "cell_type": "code",
      "source": [
        "def tf_idf_doc(doc, list):\n",
        "  \n",
        "  dictionary = {}\n",
        "  \n",
        "  for lemma in all_lemmas(list):\n",
        "    dictionary[lemma] = tf_idf(lemma, doc, list)\n",
        "  \n",
        "  return dictionary"
      ],
      "execution_count": 0,
      "outputs": []
    },
    {
      "metadata": {
        "id": "rZ0dJ-w6DTA8",
        "colab_type": "code",
        "colab": {
          "base_uri": "https://localhost:8080/",
          "height": 952
        },
        "outputId": "4767e951-29ec-40a4-8dac-5d2922b91dd2"
      },
      "cell_type": "code",
      "source": [
        "tf_idf_doc(doc1, docs)"
      ],
      "execution_count": 23,
      "outputs": [
        {
          "output_type": "execute_result",
          "data": {
            "text/plain": [
              "{\"'s\": 0.0,\n",
              " 'abe': 0.0,\n",
              " 'abenomics': 0,\n",
              " 'accelerate': 0.0,\n",
              " 'ask': 0.0,\n",
              " 'be': 0,\n",
              " 'china': 0.5,\n",
              " 'confront': 1.0,\n",
              " 'corruption': 1.0,\n",
              " 'country': 0.0,\n",
              " 'cuba': 0.0,\n",
              " 'daily': 0.0,\n",
              " 'deer': 0.0,\n",
              " 'differ': 0.0,\n",
              " 'domestic': 1.0,\n",
              " 'ease': 0.0,\n",
              " 'economic': 0.0,\n",
              " 'economy': 0.0,\n",
              " 'endemic': 1.0,\n",
              " 'fall': 0.0,\n",
              " 'find': 0.0,\n",
              " 'fix': 0.0,\n",
              " 'future': 0.0,\n",
              " 'greatly': 0.0,\n",
              " 'grow': 0.0,\n",
              " 'hard': 0.0,\n",
              " 'heal': 0.0,\n",
              " 'horse': 0.0,\n",
              " 'hunt': 0.0,\n",
              " 'japan': 0.0,\n",
              " 'minister': 0.0,\n",
              " 'obama': 0.0,\n",
              " 'pace': 0.0,\n",
              " 'people': 0.0,\n",
              " 'politically': 0.0,\n",
              " 'prime': 0.0,\n",
              " 'problem': 1.0,\n",
              " 'putin': 0.0,\n",
              " 'rapid': 0.0,\n",
              " 'rid': 0.0,\n",
              " 'ruble': 0.0,\n",
              " 'russia': 0.0,\n",
              " 'russian': 0.0,\n",
              " 'sanction': 0.0,\n",
              " 'shinzo': 0.0,\n",
              " 'shirt': 0.0,\n",
              " 'strong': 0.0,\n",
              " 'thing': 0.0,\n",
              " 'tumble': 0.0,\n",
              " 'turmoil': 0.0,\n",
              " 'value': 0.0,\n",
              " 'view': 0.0,\n",
              " 'violence': 1.0,\n",
              " 'vladimir': 0.0,\n",
              " 'work': 0.0}"
            ]
          },
          "metadata": {
            "tags": []
          },
          "execution_count": 23
        }
      ]
    },
    {
      "metadata": {
        "id": "qFVP-BLEDXeY",
        "colab_type": "text"
      },
      "cell_type": "markdown",
      "source": [
        "**6. Write a function tf_idf_scores that receives a list of Docs and returns a DataFrame displaying the lemmas in the columns and the documents in the rows.**"
      ]
    },
    {
      "metadata": {
        "id": "ywjiaFSLMKTg",
        "colab_type": "text"
      },
      "cell_type": "markdown",
      "source": [
        "* First we must import pandas to build a dataframe\n",
        "* I defined a function **tf_idf_scores** that receives a list of spaCy docs. Variable **a** is defined as an empty list. Variable **index** is defined as a list of all the sequential docs in the received list. The function then iterates over the list, and for each doc it will append the dictionary of lemmas (using earlier function **tf_idf_doc**). It then creates a dataframe using the new list **a** for data, and the variable **index** for the index. "
      ]
    },
    {
      "metadata": {
        "id": "TjassaO4DTrh",
        "colab_type": "code",
        "colab": {}
      },
      "cell_type": "code",
      "source": [
        "import pandas as pd\n",
        "\n",
        "def tf_idf_scores(list):\n",
        "\n",
        "  a = []\n",
        "  index = [i for i in range(len(list))]\n",
        "  \n",
        "  for doc in list:\n",
        "    a.append(tf_idf_doc(doc, list))\n",
        "  \n",
        "  df = pd.DataFrame(data = a, index = index)\n",
        "  \n",
        "  return df"
      ],
      "execution_count": 0,
      "outputs": []
    },
    {
      "metadata": {
        "id": "UtATUcGcL1Uc",
        "colab_type": "code",
        "colab": {
          "base_uri": "https://localhost:8080/",
          "height": 315
        },
        "outputId": "4a77c391-134d-4266-8c2b-a19d861cbb6a"
      },
      "cell_type": "code",
      "source": [
        "tf_idf_scores(docs)"
      ],
      "execution_count": 25,
      "outputs": [
        {
          "output_type": "execute_result",
          "data": {
            "text/html": [
              "<div>\n",
              "<style scoped>\n",
              "    .dataframe tbody tr th:only-of-type {\n",
              "        vertical-align: middle;\n",
              "    }\n",
              "\n",
              "    .dataframe tbody tr th {\n",
              "        vertical-align: top;\n",
              "    }\n",
              "\n",
              "    .dataframe thead th {\n",
              "        text-align: right;\n",
              "    }\n",
              "</style>\n",
              "<table border=\"1\" class=\"dataframe\">\n",
              "  <thead>\n",
              "    <tr style=\"text-align: right;\">\n",
              "      <th></th>\n",
              "      <th>'s</th>\n",
              "      <th>abe</th>\n",
              "      <th>abenomics</th>\n",
              "      <th>accelerate</th>\n",
              "      <th>ask</th>\n",
              "      <th>be</th>\n",
              "      <th>china</th>\n",
              "      <th>confront</th>\n",
              "      <th>corruption</th>\n",
              "      <th>country</th>\n",
              "      <th>...</th>\n",
              "      <th>shirt</th>\n",
              "      <th>strong</th>\n",
              "      <th>thing</th>\n",
              "      <th>tumble</th>\n",
              "      <th>turmoil</th>\n",
              "      <th>value</th>\n",
              "      <th>view</th>\n",
              "      <th>violence</th>\n",
              "      <th>vladimir</th>\n",
              "      <th>work</th>\n",
              "    </tr>\n",
              "  </thead>\n",
              "  <tbody>\n",
              "    <tr>\n",
              "      <th>0</th>\n",
              "      <td>0.0</td>\n",
              "      <td>0.0</td>\n",
              "      <td>0</td>\n",
              "      <td>0.0</td>\n",
              "      <td>0.0</td>\n",
              "      <td>0</td>\n",
              "      <td>0.5</td>\n",
              "      <td>0.0</td>\n",
              "      <td>0.0</td>\n",
              "      <td>0.0</td>\n",
              "      <td>...</td>\n",
              "      <td>0.0</td>\n",
              "      <td>1.0</td>\n",
              "      <td>0.0</td>\n",
              "      <td>0.0</td>\n",
              "      <td>0.0</td>\n",
              "      <td>0.0</td>\n",
              "      <td>0.0</td>\n",
              "      <td>0.0</td>\n",
              "      <td>0.0</td>\n",
              "      <td>0.0</td>\n",
              "    </tr>\n",
              "    <tr>\n",
              "      <th>1</th>\n",
              "      <td>0.0</td>\n",
              "      <td>0.0</td>\n",
              "      <td>0</td>\n",
              "      <td>0.0</td>\n",
              "      <td>0.0</td>\n",
              "      <td>0</td>\n",
              "      <td>0.5</td>\n",
              "      <td>1.0</td>\n",
              "      <td>1.0</td>\n",
              "      <td>0.0</td>\n",
              "      <td>...</td>\n",
              "      <td>0.0</td>\n",
              "      <td>0.0</td>\n",
              "      <td>0.0</td>\n",
              "      <td>0.0</td>\n",
              "      <td>0.0</td>\n",
              "      <td>0.0</td>\n",
              "      <td>0.0</td>\n",
              "      <td>1.0</td>\n",
              "      <td>0.0</td>\n",
              "      <td>0.0</td>\n",
              "    </tr>\n",
              "    <tr>\n",
              "      <th>2</th>\n",
              "      <td>1.0</td>\n",
              "      <td>0.5</td>\n",
              "      <td>0</td>\n",
              "      <td>0.0</td>\n",
              "      <td>0.0</td>\n",
              "      <td>0</td>\n",
              "      <td>0.0</td>\n",
              "      <td>0.0</td>\n",
              "      <td>0.0</td>\n",
              "      <td>1.0</td>\n",
              "      <td>...</td>\n",
              "      <td>0.0</td>\n",
              "      <td>0.0</td>\n",
              "      <td>0.0</td>\n",
              "      <td>0.0</td>\n",
              "      <td>1.0</td>\n",
              "      <td>0.0</td>\n",
              "      <td>0.5</td>\n",
              "      <td>0.0</td>\n",
              "      <td>0.0</td>\n",
              "      <td>0.5</td>\n",
              "    </tr>\n",
              "    <tr>\n",
              "      <th>3</th>\n",
              "      <td>0.0</td>\n",
              "      <td>0.0</td>\n",
              "      <td>0</td>\n",
              "      <td>0.0</td>\n",
              "      <td>0.0</td>\n",
              "      <td>0</td>\n",
              "      <td>0.0</td>\n",
              "      <td>0.0</td>\n",
              "      <td>0.0</td>\n",
              "      <td>0.0</td>\n",
              "      <td>...</td>\n",
              "      <td>0.0</td>\n",
              "      <td>0.0</td>\n",
              "      <td>0.0</td>\n",
              "      <td>1.0</td>\n",
              "      <td>0.0</td>\n",
              "      <td>0.0</td>\n",
              "      <td>0.0</td>\n",
              "      <td>0.0</td>\n",
              "      <td>0.5</td>\n",
              "      <td>0.5</td>\n",
              "    </tr>\n",
              "    <tr>\n",
              "      <th>4</th>\n",
              "      <td>0.0</td>\n",
              "      <td>0.5</td>\n",
              "      <td>0</td>\n",
              "      <td>0.0</td>\n",
              "      <td>1.0</td>\n",
              "      <td>0</td>\n",
              "      <td>0.0</td>\n",
              "      <td>0.0</td>\n",
              "      <td>0.0</td>\n",
              "      <td>0.0</td>\n",
              "      <td>...</td>\n",
              "      <td>0.0</td>\n",
              "      <td>0.0</td>\n",
              "      <td>0.0</td>\n",
              "      <td>0.0</td>\n",
              "      <td>0.0</td>\n",
              "      <td>0.0</td>\n",
              "      <td>0.5</td>\n",
              "      <td>0.0</td>\n",
              "      <td>0.0</td>\n",
              "      <td>0.0</td>\n",
              "    </tr>\n",
              "    <tr>\n",
              "      <th>5</th>\n",
              "      <td>1.0</td>\n",
              "      <td>0.0</td>\n",
              "      <td>0</td>\n",
              "      <td>1.0</td>\n",
              "      <td>0.0</td>\n",
              "      <td>0</td>\n",
              "      <td>0.0</td>\n",
              "      <td>0.0</td>\n",
              "      <td>0.0</td>\n",
              "      <td>0.0</td>\n",
              "      <td>...</td>\n",
              "      <td>0.0</td>\n",
              "      <td>0.0</td>\n",
              "      <td>0.0</td>\n",
              "      <td>0.0</td>\n",
              "      <td>0.0</td>\n",
              "      <td>1.0</td>\n",
              "      <td>0.0</td>\n",
              "      <td>0.0</td>\n",
              "      <td>0.0</td>\n",
              "      <td>0.0</td>\n",
              "    </tr>\n",
              "    <tr>\n",
              "      <th>6</th>\n",
              "      <td>0.0</td>\n",
              "      <td>0.0</td>\n",
              "      <td>0</td>\n",
              "      <td>0.0</td>\n",
              "      <td>0.0</td>\n",
              "      <td>0</td>\n",
              "      <td>0.0</td>\n",
              "      <td>0.0</td>\n",
              "      <td>0.0</td>\n",
              "      <td>0.0</td>\n",
              "      <td>...</td>\n",
              "      <td>1.0</td>\n",
              "      <td>0.0</td>\n",
              "      <td>1.0</td>\n",
              "      <td>0.0</td>\n",
              "      <td>0.0</td>\n",
              "      <td>0.0</td>\n",
              "      <td>0.0</td>\n",
              "      <td>0.0</td>\n",
              "      <td>1.0</td>\n",
              "      <td>0.0</td>\n",
              "    </tr>\n",
              "  </tbody>\n",
              "</table>\n",
              "<p>7 rows × 55 columns</p>\n",
              "</div>"
            ],
            "text/plain": [
              "    's  abe  abenomics  accelerate  ask  be  china  confront  corruption  \\\n",
              "0  0.0  0.0          0         0.0  0.0   0    0.5       0.0         0.0   \n",
              "1  0.0  0.0          0         0.0  0.0   0    0.5       1.0         1.0   \n",
              "2  1.0  0.5          0         0.0  0.0   0    0.0       0.0         0.0   \n",
              "3  0.0  0.0          0         0.0  0.0   0    0.0       0.0         0.0   \n",
              "4  0.0  0.5          0         0.0  1.0   0    0.0       0.0         0.0   \n",
              "5  1.0  0.0          0         1.0  0.0   0    0.0       0.0         0.0   \n",
              "6  0.0  0.0          0         0.0  0.0   0    0.0       0.0         0.0   \n",
              "\n",
              "   country  ...   shirt  strong  thing  tumble  turmoil  value  view  \\\n",
              "0      0.0  ...     0.0     1.0    0.0     0.0      0.0    0.0   0.0   \n",
              "1      0.0  ...     0.0     0.0    0.0     0.0      0.0    0.0   0.0   \n",
              "2      1.0  ...     0.0     0.0    0.0     0.0      1.0    0.0   0.5   \n",
              "3      0.0  ...     0.0     0.0    0.0     1.0      0.0    0.0   0.0   \n",
              "4      0.0  ...     0.0     0.0    0.0     0.0      0.0    0.0   0.5   \n",
              "5      0.0  ...     0.0     0.0    0.0     0.0      0.0    1.0   0.0   \n",
              "6      0.0  ...     1.0     0.0    1.0     0.0      0.0    0.0   0.0   \n",
              "\n",
              "   violence  vladimir  work  \n",
              "0       0.0       0.0   0.0  \n",
              "1       1.0       0.0   0.0  \n",
              "2       0.0       0.0   0.5  \n",
              "3       0.0       0.5   0.5  \n",
              "4       0.0       0.0   0.0  \n",
              "5       0.0       0.0   0.0  \n",
              "6       0.0       1.0   0.0  \n",
              "\n",
              "[7 rows x 55 columns]"
            ]
          },
          "metadata": {
            "tags": []
          },
          "execution_count": 25
        }
      ]
    },
    {
      "metadata": {
        "id": "lAv056S1Dblv",
        "colab_type": "text"
      },
      "cell_type": "markdown",
      "source": [
        "**7. Visualize the TF-IDF, like this:**"
      ]
    },
    {
      "metadata": {
        "id": "U_W538orShWa",
        "colab_type": "text"
      },
      "cell_type": "markdown",
      "source": [
        "* First we have to import seaborn and matplotlib to build visualisations.\n",
        "* I saved the dataframe into variable **df**.\n",
        "* Call the seaborn heatmap, using df as the data and setting the limits to  0 and 1.\n",
        "\n",
        "Note: for some reason my default palette was different to the example. The closest I could find with the Inferno colour palette. "
      ]
    },
    {
      "metadata": {
        "id": "nujTOmqGDfK8",
        "colab_type": "code",
        "colab": {}
      },
      "cell_type": "code",
      "source": [
        "import seaborn as sns\n",
        "import matplotlib.pyplot as plt"
      ],
      "execution_count": 0,
      "outputs": []
    },
    {
      "metadata": {
        "id": "qf2DQyymNYE5",
        "colab_type": "code",
        "colab": {}
      },
      "cell_type": "code",
      "source": [
        "df = tf_idf_scores(docs)"
      ],
      "execution_count": 0,
      "outputs": []
    },
    {
      "metadata": {
        "id": "GEbsgRIQNg6B",
        "colab_type": "code",
        "colab": {
          "base_uri": "https://localhost:8080/",
          "height": 324
        },
        "outputId": "e429fe2a-23c4-47d5-fb1d-9a731cd6a5fe"
      },
      "cell_type": "code",
      "source": [
        "plt.figure(figsize=(20, 4))\n",
        "sns.heatmap(data = df, cmap = 'inferno')"
      ],
      "execution_count": 28,
      "outputs": [
        {
          "output_type": "execute_result",
          "data": {
            "text/plain": [
              "<matplotlib.axes._subplots.AxesSubplot at 0x7f62709fd6a0>"
            ]
          },
          "metadata": {
            "tags": []
          },
          "execution_count": 28
        },
        {
          "output_type": "display_data",
          "data": {
            "image/png": "[encoded data removed]",
            "text/plain": [
              "<matplotlib.figure.Figure at 0x7f627324e898>"
            ]
          },
          "metadata": {
            "tags": []
          }
        }
      ]
    }
  ]
}