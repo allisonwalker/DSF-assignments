{
  "nbformat": 4,
  "nbformat_minor": 0,
  "metadata": {
    "colab": {
      "name": "Data Science Foundations - NYC Taxi assignment.ipynb",
      "version": "0.3.2",
      "provenance": [],
      "collapsed_sections": []
    },
    "kernelspec": {
      "name": "python3",
      "display_name": "Python 3"
    }
  },
  "cells": [
    {
      "metadata": {
        "id": "OSFJMdEzia8L",
        "colab_type": "text"
      },
      "cell_type": "markdown",
      "source": [
        "The first assignment is to answer some basic questions about a sample of the \"NYC Taxi Dataset\". The URLs were taken from https://github.com/toddwschneider/nyc-taxi-data/.\n",
        " \n",
        "Notice that, even though we will use only a subset, this needs around 2 GB of RAM, plus a margin to do the analysis! if your computer is not capable enough, you can use https://colab.research.google.com/, which gives you a Jupyter installation with 12 GB of RAM for free.\n",
        " \n",
        "1. Load https://s3.amazonaws.com/nyc-tlc/trip+data/yellow_tripdata_2017-10.csv into pandas, using an appropriate column as an index and parsing the columns that have dates\n",
        "2. Display the first 5 rows, a statistical summary, and the dtypes of the columns\n",
        "3. Do you find any inconsistency in fares or distance data? If so, remove them from the dataset\n",
        "4. Try to plot a histogram of the trip distance distribution. What happens? Try increasing the number of bins, normalizing the data, or using a logarithmic scale in the Y axis to actually see something\n",
        "5. What is the median trip distance per passenger count? Represent it in text and graphical form\n",
        "6. Create a new column payment_type_text that is 'Cash' if payment_type is 2 and 'Other' otherwise\n",
        "7. Bonus points: what is the correlation between leaving no tip and paying with cash?\n",
        " \n",
        "The grading will be as follows: 0.5 points for each correct answer above, and 1 extra point for overall presentation, aesthetics, code quality and originality. Yes: the maximum theoretical grade is thus 4.5 out of 4, but only 4 points will be awarded.\n",
        " \n",
        "The format of the delivery *must* be a Jupyter notebook that should run, top to bottom, without errors on a capable computer with Python 3.6. It should include explanations in the form of text cells, and code comments where appropriate."
      ]
    },
    {
      "metadata": {
        "id": "9sHqT4PQlno4",
        "colab_type": "text"
      },
      "cell_type": "markdown",
      "source": [
        "**1. Load https://s3.amazonaws.com/nyc-tlc/trip+data/yellow_tripdata_2017-10.csv into pandas, using an appropriate column as an index and parsing the columns that have dates**"
      ]
    },
    {
      "metadata": {
        "id": "3M5QOE19iW07",
        "colab_type": "code",
        "colab": {}
      },
      "cell_type": "code",
      "source": [
        "import pandas as pd\n",
        "import numpy as np\n",
        "import matplotlib.pyplot as plt\n",
        "from datetime import datetime"
      ],
      "execution_count": 0,
      "outputs": []
    },
    {
      "metadata": {
        "id": "A6SrMmO3oKEW",
        "colab_type": "code",
        "colab": {}
      },
      "cell_type": "code",
      "source": [
        "df = pd.read_csv('https://s3.amazonaws.com/nyc-tlc/trip+data/yellow_tripdata_2017-10.csv')"
      ],
      "execution_count": 0,
      "outputs": []
    },
    {
      "metadata": {
        "id": "yKAQE-smqDrs",
        "colab_type": "code",
        "colab": {}
      },
      "cell_type": "code",
      "source": [
        "#parsing pickup and dropoff datetimes and converting to datetime formats\n",
        "#default indexing used, as vendor ID does not make an appropriate index\n",
        "\n",
        "df['tpep_pickup_datetime'] = pd.to_datetime(df['tpep_pickup_datetime'], format= '%Y/%m/%d %H:%M:%S')\n",
        "df['tpep_dropoff_datetime'] = pd.to_datetime(df['tpep_dropoff_datetime'], format= '%Y/%m/%d %H:%M:%S')\n",
        "#df.head()"
      ],
      "execution_count": 0,
      "outputs": []
    },
    {
      "metadata": {
        "id": "oV0HLAyqlig9",
        "colab_type": "text"
      },
      "cell_type": "markdown",
      "source": [
        "**2. Display the first 5 rows, a statistical summary, and the dtypes of the columns**\n"
      ]
    },
    {
      "metadata": {
        "id": "2S42yFGrlfce",
        "colab_type": "code",
        "colab": {
          "base_uri": "https://localhost:8080/",
          "height": 224
        },
        "outputId": "73727925-8b0c-4f5a-ad01-e3c681977706"
      },
      "cell_type": "code",
      "source": [
        "#display the first 5 rows\n",
        "df.head()"
      ],
      "execution_count": 4,
      "outputs": [
        {
          "output_type": "execute_result",
          "data": {
            "text/html": [
              "<div>\n",
              "<style scoped>\n",
              "    .dataframe tbody tr th:only-of-type {\n",
              "        vertical-align: middle;\n",
              "    }\n",
              "\n",
              "    .dataframe tbody tr th {\n",
              "        vertical-align: top;\n",
              "    }\n",
              "\n",
              "    .dataframe thead th {\n",
              "        text-align: right;\n",
              "    }\n",
              "</style>\n",
              "<table border=\"1\" class=\"dataframe\">\n",
              "  <thead>\n",
              "    <tr style=\"text-align: right;\">\n",
              "      <th></th>\n",
              "      <th>VendorID</th>\n",
              "      <th>tpep_pickup_datetime</th>\n",
              "      <th>tpep_dropoff_datetime</th>\n",
              "      <th>passenger_count</th>\n",
              "      <th>trip_distance</th>\n",
              "      <th>RatecodeID</th>\n",
              "      <th>store_and_fwd_flag</th>\n",
              "      <th>PULocationID</th>\n",
              "      <th>DOLocationID</th>\n",
              "      <th>payment_type</th>\n",
              "      <th>fare_amount</th>\n",
              "      <th>extra</th>\n",
              "      <th>mta_tax</th>\n",
              "      <th>tip_amount</th>\n",
              "      <th>tolls_amount</th>\n",
              "      <th>improvement_surcharge</th>\n",
              "      <th>total_amount</th>\n",
              "    </tr>\n",
              "  </thead>\n",
              "  <tbody>\n",
              "    <tr>\n",
              "      <th>0</th>\n",
              "      <td>1</td>\n",
              "      <td>2017-10-01 00:01:50</td>\n",
              "      <td>2017-10-01 00:14:13</td>\n",
              "      <td>1</td>\n",
              "      <td>2.00</td>\n",
              "      <td>1</td>\n",
              "      <td>N</td>\n",
              "      <td>142</td>\n",
              "      <td>233</td>\n",
              "      <td>2</td>\n",
              "      <td>10.0</td>\n",
              "      <td>0.5</td>\n",
              "      <td>0.5</td>\n",
              "      <td>0.00</td>\n",
              "      <td>0.0</td>\n",
              "      <td>0.3</td>\n",
              "      <td>11.30</td>\n",
              "    </tr>\n",
              "    <tr>\n",
              "      <th>1</th>\n",
              "      <td>1</td>\n",
              "      <td>2017-10-01 00:02:43</td>\n",
              "      <td>2017-10-01 00:08:35</td>\n",
              "      <td>2</td>\n",
              "      <td>2.30</td>\n",
              "      <td>1</td>\n",
              "      <td>N</td>\n",
              "      <td>142</td>\n",
              "      <td>166</td>\n",
              "      <td>1</td>\n",
              "      <td>8.0</td>\n",
              "      <td>0.5</td>\n",
              "      <td>0.5</td>\n",
              "      <td>1.85</td>\n",
              "      <td>0.0</td>\n",
              "      <td>0.3</td>\n",
              "      <td>11.15</td>\n",
              "    </tr>\n",
              "    <tr>\n",
              "      <th>2</th>\n",
              "      <td>1</td>\n",
              "      <td>2017-10-01 00:12:08</td>\n",
              "      <td>2017-10-01 00:25:49</td>\n",
              "      <td>3</td>\n",
              "      <td>2.80</td>\n",
              "      <td>1</td>\n",
              "      <td>N</td>\n",
              "      <td>151</td>\n",
              "      <td>262</td>\n",
              "      <td>1</td>\n",
              "      <td>13.0</td>\n",
              "      <td>0.5</td>\n",
              "      <td>0.5</td>\n",
              "      <td>1.72</td>\n",
              "      <td>0.0</td>\n",
              "      <td>0.3</td>\n",
              "      <td>16.02</td>\n",
              "    </tr>\n",
              "    <tr>\n",
              "      <th>3</th>\n",
              "      <td>2</td>\n",
              "      <td>2017-10-01 00:00:25</td>\n",
              "      <td>2017-10-01 00:11:24</td>\n",
              "      <td>1</td>\n",
              "      <td>1.97</td>\n",
              "      <td>1</td>\n",
              "      <td>N</td>\n",
              "      <td>100</td>\n",
              "      <td>229</td>\n",
              "      <td>1</td>\n",
              "      <td>9.5</td>\n",
              "      <td>0.5</td>\n",
              "      <td>0.5</td>\n",
              "      <td>1.00</td>\n",
              "      <td>0.0</td>\n",
              "      <td>0.3</td>\n",
              "      <td>11.80</td>\n",
              "    </tr>\n",
              "    <tr>\n",
              "      <th>4</th>\n",
              "      <td>2</td>\n",
              "      <td>2017-10-01 00:15:30</td>\n",
              "      <td>2017-10-01 00:25:11</td>\n",
              "      <td>1</td>\n",
              "      <td>2.17</td>\n",
              "      <td>1</td>\n",
              "      <td>N</td>\n",
              "      <td>141</td>\n",
              "      <td>142</td>\n",
              "      <td>1</td>\n",
              "      <td>9.0</td>\n",
              "      <td>0.5</td>\n",
              "      <td>0.5</td>\n",
              "      <td>2.06</td>\n",
              "      <td>0.0</td>\n",
              "      <td>0.3</td>\n",
              "      <td>12.36</td>\n",
              "    </tr>\n",
              "  </tbody>\n",
              "</table>\n",
              "</div>"
            ],
            "text/plain": [
              "   VendorID tpep_pickup_datetime tpep_dropoff_datetime  passenger_count  \\\n",
              "0         1  2017-10-01 00:01:50   2017-10-01 00:14:13                1   \n",
              "1         1  2017-10-01 00:02:43   2017-10-01 00:08:35                2   \n",
              "2         1  2017-10-01 00:12:08   2017-10-01 00:25:49                3   \n",
              "3         2  2017-10-01 00:00:25   2017-10-01 00:11:24                1   \n",
              "4         2  2017-10-01 00:15:30   2017-10-01 00:25:11                1   \n",
              "\n",
              "   trip_distance  RatecodeID store_and_fwd_flag  PULocationID  DOLocationID  \\\n",
              "0           2.00           1                  N           142           233   \n",
              "1           2.30           1                  N           142           166   \n",
              "2           2.80           1                  N           151           262   \n",
              "3           1.97           1                  N           100           229   \n",
              "4           2.17           1                  N           141           142   \n",
              "\n",
              "   payment_type  fare_amount  extra  mta_tax  tip_amount  tolls_amount  \\\n",
              "0             2         10.0    0.5      0.5        0.00           0.0   \n",
              "1             1          8.0    0.5      0.5        1.85           0.0   \n",
              "2             1         13.0    0.5      0.5        1.72           0.0   \n",
              "3             1          9.5    0.5      0.5        1.00           0.0   \n",
              "4             1          9.0    0.5      0.5        2.06           0.0   \n",
              "\n",
              "   improvement_surcharge  total_amount  \n",
              "0                    0.3         11.30  \n",
              "1                    0.3         11.15  \n",
              "2                    0.3         16.02  \n",
              "3                    0.3         11.80  \n",
              "4                    0.3         12.36  "
            ]
          },
          "metadata": {
            "tags": []
          },
          "execution_count": 4
        }
      ]
    },
    {
      "metadata": {
        "id": "l3iPypiVVkfU",
        "colab_type": "code",
        "colab": {
          "base_uri": "https://localhost:8080/",
          "height": 34
        },
        "outputId": "0a4fe5ea-2ba0-416a-f15c-b111041d471b"
      },
      "cell_type": "code",
      "source": [
        "#how many rows?\n",
        "df.shape"
      ],
      "execution_count": 5,
      "outputs": [
        {
          "output_type": "execute_result",
          "data": {
            "text/plain": [
              "(9768815, 17)"
            ]
          },
          "metadata": {
            "tags": []
          },
          "execution_count": 5
        }
      ]
    },
    {
      "metadata": {
        "id": "hBTqntJJtHZC",
        "colab_type": "code",
        "colab": {
          "base_uri": "https://localhost:8080/",
          "height": 334
        },
        "outputId": "0aeb5bfc-5225-4782-e7f6-2662a4d01056"
      },
      "cell_type": "code",
      "source": [
        "#display a statistical summary\n",
        "df.describe()"
      ],
      "execution_count": 6,
      "outputs": [
        {
          "output_type": "execute_result",
          "data": {
            "text/html": [
              "<div>\n",
              "<style scoped>\n",
              "    .dataframe tbody tr th:only-of-type {\n",
              "        vertical-align: middle;\n",
              "    }\n",
              "\n",
              "    .dataframe tbody tr th {\n",
              "        vertical-align: top;\n",
              "    }\n",
              "\n",
              "    .dataframe thead th {\n",
              "        text-align: right;\n",
              "    }\n",
              "</style>\n",
              "<table border=\"1\" class=\"dataframe\">\n",
              "  <thead>\n",
              "    <tr style=\"text-align: right;\">\n",
              "      <th></th>\n",
              "      <th>VendorID</th>\n",
              "      <th>passenger_count</th>\n",
              "      <th>trip_distance</th>\n",
              "      <th>RatecodeID</th>\n",
              "      <th>PULocationID</th>\n",
              "      <th>DOLocationID</th>\n",
              "      <th>payment_type</th>\n",
              "      <th>fare_amount</th>\n",
              "      <th>extra</th>\n",
              "      <th>mta_tax</th>\n",
              "      <th>tip_amount</th>\n",
              "      <th>tolls_amount</th>\n",
              "      <th>improvement_surcharge</th>\n",
              "      <th>total_amount</th>\n",
              "    </tr>\n",
              "  </thead>\n",
              "  <tbody>\n",
              "    <tr>\n",
              "      <th>count</th>\n",
              "      <td>9.768815e+06</td>\n",
              "      <td>9.768815e+06</td>\n",
              "      <td>9.768815e+06</td>\n",
              "      <td>9.768815e+06</td>\n",
              "      <td>9.768815e+06</td>\n",
              "      <td>9.768815e+06</td>\n",
              "      <td>9.768815e+06</td>\n",
              "      <td>9.768815e+06</td>\n",
              "      <td>9.768815e+06</td>\n",
              "      <td>9.768815e+06</td>\n",
              "      <td>9.768815e+06</td>\n",
              "      <td>9.768815e+06</td>\n",
              "      <td>9.768815e+06</td>\n",
              "      <td>9.768815e+06</td>\n",
              "    </tr>\n",
              "    <tr>\n",
              "      <th>mean</th>\n",
              "      <td>1.549415e+00</td>\n",
              "      <td>1.617468e+00</td>\n",
              "      <td>2.964095e+00</td>\n",
              "      <td>1.045011e+00</td>\n",
              "      <td>1.630937e+02</td>\n",
              "      <td>1.612835e+02</td>\n",
              "      <td>1.328251e+00</td>\n",
              "      <td>1.338078e+01</td>\n",
              "      <td>3.300792e-01</td>\n",
              "      <td>4.972671e-01</td>\n",
              "      <td>1.883138e+00</td>\n",
              "      <td>3.479925e-01</td>\n",
              "      <td>2.996095e-01</td>\n",
              "      <td>1.674133e+01</td>\n",
              "    </tr>\n",
              "    <tr>\n",
              "      <th>std</th>\n",
              "      <td>4.975522e-01</td>\n",
              "      <td>1.259104e+00</td>\n",
              "      <td>3.814063e+00</td>\n",
              "      <td>4.748632e-01</td>\n",
              "      <td>6.624797e+01</td>\n",
              "      <td>7.015271e+01</td>\n",
              "      <td>4.901289e-01</td>\n",
              "      <td>3.078552e+02</td>\n",
              "      <td>4.644125e-01</td>\n",
              "      <td>1.177005e-01</td>\n",
              "      <td>2.634506e+00</td>\n",
              "      <td>1.696558e+00</td>\n",
              "      <td>1.438805e-02</td>\n",
              "      <td>3.079748e+02</td>\n",
              "    </tr>\n",
              "    <tr>\n",
              "      <th>min</th>\n",
              "      <td>1.000000e+00</td>\n",
              "      <td>0.000000e+00</td>\n",
              "      <td>0.000000e+00</td>\n",
              "      <td>1.000000e+00</td>\n",
              "      <td>1.000000e+00</td>\n",
              "      <td>1.000000e+00</td>\n",
              "      <td>1.000000e+00</td>\n",
              "      <td>-4.600000e+02</td>\n",
              "      <td>-5.800000e+01</td>\n",
              "      <td>-5.000000e-01</td>\n",
              "      <td>-4.100000e+01</td>\n",
              "      <td>-1.500000e+01</td>\n",
              "      <td>-3.000000e-01</td>\n",
              "      <td>-4.603000e+02</td>\n",
              "    </tr>\n",
              "    <tr>\n",
              "      <th>25%</th>\n",
              "      <td>1.000000e+00</td>\n",
              "      <td>1.000000e+00</td>\n",
              "      <td>1.000000e+00</td>\n",
              "      <td>1.000000e+00</td>\n",
              "      <td>1.140000e+02</td>\n",
              "      <td>1.120000e+02</td>\n",
              "      <td>1.000000e+00</td>\n",
              "      <td>6.500000e+00</td>\n",
              "      <td>0.000000e+00</td>\n",
              "      <td>5.000000e-01</td>\n",
              "      <td>0.000000e+00</td>\n",
              "      <td>0.000000e+00</td>\n",
              "      <td>3.000000e-01</td>\n",
              "      <td>8.760000e+00</td>\n",
              "    </tr>\n",
              "    <tr>\n",
              "      <th>50%</th>\n",
              "      <td>2.000000e+00</td>\n",
              "      <td>1.000000e+00</td>\n",
              "      <td>1.650000e+00</td>\n",
              "      <td>1.000000e+00</td>\n",
              "      <td>1.620000e+02</td>\n",
              "      <td>1.620000e+02</td>\n",
              "      <td>1.000000e+00</td>\n",
              "      <td>9.500000e+00</td>\n",
              "      <td>0.000000e+00</td>\n",
              "      <td>5.000000e-01</td>\n",
              "      <td>1.360000e+00</td>\n",
              "      <td>0.000000e+00</td>\n",
              "      <td>3.000000e-01</td>\n",
              "      <td>1.225000e+01</td>\n",
              "    </tr>\n",
              "    <tr>\n",
              "      <th>75%</th>\n",
              "      <td>2.000000e+00</td>\n",
              "      <td>2.000000e+00</td>\n",
              "      <td>3.070000e+00</td>\n",
              "      <td>1.000000e+00</td>\n",
              "      <td>2.330000e+02</td>\n",
              "      <td>2.330000e+02</td>\n",
              "      <td>2.000000e+00</td>\n",
              "      <td>1.500000e+01</td>\n",
              "      <td>5.000000e-01</td>\n",
              "      <td>5.000000e-01</td>\n",
              "      <td>2.460000e+00</td>\n",
              "      <td>0.000000e+00</td>\n",
              "      <td>3.000000e-01</td>\n",
              "      <td>1.830000e+01</td>\n",
              "    </tr>\n",
              "    <tr>\n",
              "      <th>max</th>\n",
              "      <td>2.000000e+00</td>\n",
              "      <td>9.000000e+00</td>\n",
              "      <td>1.178600e+03</td>\n",
              "      <td>9.900000e+01</td>\n",
              "      <td>2.650000e+02</td>\n",
              "      <td>2.650000e+02</td>\n",
              "      <td>4.000000e+00</td>\n",
              "      <td>8.616024e+05</td>\n",
              "      <td>9.600000e+01</td>\n",
              "      <td>2.500000e+02</td>\n",
              "      <td>4.445000e+02</td>\n",
              "      <td>9.296500e+02</td>\n",
              "      <td>1.000000e+00</td>\n",
              "      <td>8.616032e+05</td>\n",
              "    </tr>\n",
              "  </tbody>\n",
              "</table>\n",
              "</div>"
            ],
            "text/plain": [
              "           VendorID  passenger_count  trip_distance    RatecodeID  \\\n",
              "count  9.768815e+06     9.768815e+06   9.768815e+06  9.768815e+06   \n",
              "mean   1.549415e+00     1.617468e+00   2.964095e+00  1.045011e+00   \n",
              "std    4.975522e-01     1.259104e+00   3.814063e+00  4.748632e-01   \n",
              "min    1.000000e+00     0.000000e+00   0.000000e+00  1.000000e+00   \n",
              "25%    1.000000e+00     1.000000e+00   1.000000e+00  1.000000e+00   \n",
              "50%    2.000000e+00     1.000000e+00   1.650000e+00  1.000000e+00   \n",
              "75%    2.000000e+00     2.000000e+00   3.070000e+00  1.000000e+00   \n",
              "max    2.000000e+00     9.000000e+00   1.178600e+03  9.900000e+01   \n",
              "\n",
              "       PULocationID  DOLocationID  payment_type   fare_amount         extra  \\\n",
              "count  9.768815e+06  9.768815e+06  9.768815e+06  9.768815e+06  9.768815e+06   \n",
              "mean   1.630937e+02  1.612835e+02  1.328251e+00  1.338078e+01  3.300792e-01   \n",
              "std    6.624797e+01  7.015271e+01  4.901289e-01  3.078552e+02  4.644125e-01   \n",
              "min    1.000000e+00  1.000000e+00  1.000000e+00 -4.600000e+02 -5.800000e+01   \n",
              "25%    1.140000e+02  1.120000e+02  1.000000e+00  6.500000e+00  0.000000e+00   \n",
              "50%    1.620000e+02  1.620000e+02  1.000000e+00  9.500000e+00  0.000000e+00   \n",
              "75%    2.330000e+02  2.330000e+02  2.000000e+00  1.500000e+01  5.000000e-01   \n",
              "max    2.650000e+02  2.650000e+02  4.000000e+00  8.616024e+05  9.600000e+01   \n",
              "\n",
              "            mta_tax    tip_amount  tolls_amount  improvement_surcharge  \\\n",
              "count  9.768815e+06  9.768815e+06  9.768815e+06           9.768815e+06   \n",
              "mean   4.972671e-01  1.883138e+00  3.479925e-01           2.996095e-01   \n",
              "std    1.177005e-01  2.634506e+00  1.696558e+00           1.438805e-02   \n",
              "min   -5.000000e-01 -4.100000e+01 -1.500000e+01          -3.000000e-01   \n",
              "25%    5.000000e-01  0.000000e+00  0.000000e+00           3.000000e-01   \n",
              "50%    5.000000e-01  1.360000e+00  0.000000e+00           3.000000e-01   \n",
              "75%    5.000000e-01  2.460000e+00  0.000000e+00           3.000000e-01   \n",
              "max    2.500000e+02  4.445000e+02  9.296500e+02           1.000000e+00   \n",
              "\n",
              "       total_amount  \n",
              "count  9.768815e+06  \n",
              "mean   1.674133e+01  \n",
              "std    3.079748e+02  \n",
              "min   -4.603000e+02  \n",
              "25%    8.760000e+00  \n",
              "50%    1.225000e+01  \n",
              "75%    1.830000e+01  \n",
              "max    8.616032e+05  "
            ]
          },
          "metadata": {
            "tags": []
          },
          "execution_count": 6
        }
      ]
    },
    {
      "metadata": {
        "id": "qjcMYoFPtI9Q",
        "colab_type": "code",
        "colab": {
          "base_uri": "https://localhost:8080/",
          "height": 323
        },
        "outputId": "083a572d-683f-47c3-aa85-8299179b6469"
      },
      "cell_type": "code",
      "source": [
        "#display the dtypes of the columns\n",
        "df.dtypes"
      ],
      "execution_count": 7,
      "outputs": [
        {
          "output_type": "execute_result",
          "data": {
            "text/plain": [
              "VendorID                          int64\n",
              "tpep_pickup_datetime     datetime64[ns]\n",
              "tpep_dropoff_datetime    datetime64[ns]\n",
              "passenger_count                   int64\n",
              "trip_distance                   float64\n",
              "RatecodeID                        int64\n",
              "store_and_fwd_flag               object\n",
              "PULocationID                      int64\n",
              "DOLocationID                      int64\n",
              "payment_type                      int64\n",
              "fare_amount                     float64\n",
              "extra                           float64\n",
              "mta_tax                         float64\n",
              "tip_amount                      float64\n",
              "tolls_amount                    float64\n",
              "improvement_surcharge           float64\n",
              "total_amount                    float64\n",
              "dtype: object"
            ]
          },
          "metadata": {
            "tags": []
          },
          "execution_count": 7
        }
      ]
    },
    {
      "metadata": {
        "id": "JfHulgQKlxJM",
        "colab_type": "text"
      },
      "cell_type": "markdown",
      "source": [
        "**3. Do you find any inconsistency in fares or distance data? If so, remove them from the dataset**"
      ]
    },
    {
      "metadata": {
        "id": "uG716_6QSEE1",
        "colab_type": "code",
        "colab": {}
      },
      "cell_type": "code",
      "source": [
        "#the above .describe() shows negative values for fare_amount, and 0 values for trip_distance \n",
        "#to remove negative/0 values:\n",
        "\n",
        "df = df[(df['fare_amount']>0) & (df['trip_distance']>0)]"
      ],
      "execution_count": 0,
      "outputs": []
    },
    {
      "metadata": {
        "id": "4Cle7g1zVn5y",
        "colab_type": "code",
        "colab": {
          "base_uri": "https://localhost:8080/",
          "height": 34
        },
        "outputId": "1ee19ac6-67c4-407d-d194-ad0e45ee190d"
      },
      "cell_type": "code",
      "source": [
        "#how many rows now?\n",
        "df.shape"
      ],
      "execution_count": 9,
      "outputs": [
        {
          "output_type": "execute_result",
          "data": {
            "text/plain": [
              "(9698454, 17)"
            ]
          },
          "metadata": {
            "tags": []
          },
          "execution_count": 9
        }
      ]
    },
    {
      "metadata": {
        "id": "x839MZe_Yw6g",
        "colab_type": "code",
        "colab": {
          "base_uri": "https://localhost:8080/",
          "height": 34
        },
        "outputId": "202222c7-d531-4653-cc41-96baa6ba1794"
      },
      "cell_type": "code",
      "source": [
        "9768815 - 9698454"
      ],
      "execution_count": 10,
      "outputs": [
        {
          "output_type": "execute_result",
          "data": {
            "text/plain": [
              "70361"
            ]
          },
          "metadata": {
            "tags": []
          },
          "execution_count": 10
        }
      ]
    },
    {
      "metadata": {
        "id": "doZPiSXU0A9U",
        "colab_type": "code",
        "colab": {}
      },
      "cell_type": "code",
      "source": [
        "#we now have 70,361 fewer rows in the dataframe"
      ],
      "execution_count": 0,
      "outputs": []
    },
    {
      "metadata": {
        "id": "Htcazitil1lX",
        "colab_type": "text"
      },
      "cell_type": "markdown",
      "source": [
        "**4. Try to plot a histogram of the trip distance distribution. What happens? Try increasing the number of bins, normalizing the data, or using a logarithmic scale in the Y axis to actually see something**"
      ]
    },
    {
      "metadata": {
        "id": "lUNcwDBAu9ZH",
        "colab_type": "code",
        "colab": {
          "base_uri": "https://localhost:8080/",
          "height": 477
        },
        "outputId": "029a68c2-7da5-43f6-f6c0-a99ea8e2d4df"
      },
      "cell_type": "code",
      "source": [
        "#First attempt at plotting histogram with no adjustments/arguments\n",
        "\n",
        "plt.hist(df['trip_distance'])"
      ],
      "execution_count": 12,
      "outputs": [
        {
          "output_type": "execute_result",
          "data": {
            "text/plain": [
              "(array([9.698435e+06, 1.600000e+01, 1.000000e+00, 0.000000e+00,\n",
              "        0.000000e+00, 0.000000e+00, 0.000000e+00, 1.000000e+00,\n",
              "        0.000000e+00, 1.000000e+00]),\n",
              " array([1.000000e-02, 1.178690e+02, 2.357280e+02, 3.535870e+02,\n",
              "        4.714460e+02, 5.893050e+02, 7.071640e+02, 8.250230e+02,\n",
              "        9.428820e+02, 1.060741e+03, 1.178600e+03]),\n",
              " <a list of 10 Patch objects>)"
            ]
          },
          "metadata": {
            "tags": []
          },
          "execution_count": 12
        },
        {
          "output_type": "display_data",
          "data": {
            "image/png": "[encoded data removed]",
            "text/plain": [
              "<matplotlib.figure.Figure at 0x7f592a669550>"
            ]
          },
          "metadata": {
            "tags": []
          }
        }
      ]
    },
    {
      "metadata": {
        "id": "4iMXFcdZvgte",
        "colab_type": "code",
        "colab": {
          "base_uri": "https://localhost:8080/",
          "height": 379
        },
        "outputId": "853a0b2e-c861-4093-b33b-96638fecf58b"
      },
      "cell_type": "code",
      "source": [
        "#Re-plotted using 100 bins, normalized data and logarithmic y-scale\n",
        "\n",
        "df_norm = (df['trip_distance'] - df['trip_distance'].min()) / (df['trip_distance'].max() - df['trip_distance'].min())\n",
        "\n",
        "plt.hist(df_norm, bins = 100, log = True)\n",
        "plt.title('NYC Taxi trip distances (logarithmic)')\n"
      ],
      "execution_count": 27,
      "outputs": [
        {
          "output_type": "execute_result",
          "data": {
            "text/plain": [
              "Text(0.5,1,'NYC Taxi trip distances (logarithmic)')"
            ]
          },
          "metadata": {
            "tags": []
          },
          "execution_count": 27
        },
        {
          "output_type": "display_data",
          "data": {
            "image/png": "[encoded data removed]",
            "text/plain": [
              "<matplotlib.figure.Figure at 0x7f59008eb908>"
            ]
          },
          "metadata": {
            "tags": []
          }
        }
      ]
    },
    {
      "metadata": {
        "id": "9l1eiRyrl7Eh",
        "colab_type": "text"
      },
      "cell_type": "markdown",
      "source": [
        "**5. What is the median trip distance per passenger count? Represent it in text and graphical form.**"
      ]
    },
    {
      "metadata": {
        "id": "HHUXjxZ6wvPV",
        "colab_type": "code",
        "colab": {
          "base_uri": "https://localhost:8080/",
          "height": 359
        },
        "outputId": "a1a0cb64-b52b-4907-cc75-6ed548d23804"
      },
      "cell_type": "code",
      "source": [
        "#groupby passengercount, and then calculate median of trip_distance within each group\n",
        "\n",
        "passengercount = df.groupby(['passenger_count'], as_index=False)['trip_distance'].median()\n",
        "\n",
        "passengercount"
      ],
      "execution_count": 14,
      "outputs": [
        {
          "output_type": "execute_result",
          "data": {
            "text/html": [
              "<div>\n",
              "<style scoped>\n",
              "    .dataframe tbody tr th:only-of-type {\n",
              "        vertical-align: middle;\n",
              "    }\n",
              "\n",
              "    .dataframe tbody tr th {\n",
              "        vertical-align: top;\n",
              "    }\n",
              "\n",
              "    .dataframe thead th {\n",
              "        text-align: right;\n",
              "    }\n",
              "</style>\n",
              "<table border=\"1\" class=\"dataframe\">\n",
              "  <thead>\n",
              "    <tr style=\"text-align: right;\">\n",
              "      <th></th>\n",
              "      <th>passenger_count</th>\n",
              "      <th>trip_distance</th>\n",
              "    </tr>\n",
              "  </thead>\n",
              "  <tbody>\n",
              "    <tr>\n",
              "      <th>0</th>\n",
              "      <td>0</td>\n",
              "      <td>1.60</td>\n",
              "    </tr>\n",
              "    <tr>\n",
              "      <th>1</th>\n",
              "      <td>1</td>\n",
              "      <td>1.62</td>\n",
              "    </tr>\n",
              "    <tr>\n",
              "      <th>2</th>\n",
              "      <td>2</td>\n",
              "      <td>1.71</td>\n",
              "    </tr>\n",
              "    <tr>\n",
              "      <th>3</th>\n",
              "      <td>3</td>\n",
              "      <td>1.70</td>\n",
              "    </tr>\n",
              "    <tr>\n",
              "      <th>4</th>\n",
              "      <td>4</td>\n",
              "      <td>1.77</td>\n",
              "    </tr>\n",
              "    <tr>\n",
              "      <th>5</th>\n",
              "      <td>5</td>\n",
              "      <td>1.70</td>\n",
              "    </tr>\n",
              "    <tr>\n",
              "      <th>6</th>\n",
              "      <td>6</td>\n",
              "      <td>1.68</td>\n",
              "    </tr>\n",
              "    <tr>\n",
              "      <th>7</th>\n",
              "      <td>7</td>\n",
              "      <td>9.73</td>\n",
              "    </tr>\n",
              "    <tr>\n",
              "      <th>8</th>\n",
              "      <td>8</td>\n",
              "      <td>4.50</td>\n",
              "    </tr>\n",
              "    <tr>\n",
              "      <th>9</th>\n",
              "      <td>9</td>\n",
              "      <td>12.55</td>\n",
              "    </tr>\n",
              "  </tbody>\n",
              "</table>\n",
              "</div>"
            ],
            "text/plain": [
              "   passenger_count  trip_distance\n",
              "0                0           1.60\n",
              "1                1           1.62\n",
              "2                2           1.71\n",
              "3                3           1.70\n",
              "4                4           1.77\n",
              "5                5           1.70\n",
              "6                6           1.68\n",
              "7                7           9.73\n",
              "8                8           4.50\n",
              "9                9          12.55"
            ]
          },
          "metadata": {
            "tags": []
          },
          "execution_count": 14
        }
      ]
    },
    {
      "metadata": {
        "id": "KFVzK7GEViYg",
        "colab_type": "code",
        "colab": {
          "base_uri": "https://localhost:8080/",
          "height": 376
        },
        "outputId": "0e0b1fe7-0c52-424c-9f36-60408cc7ead2"
      },
      "cell_type": "code",
      "source": [
        "#showing median values in graphical format\n",
        "\n",
        "passengercount.plot(x = 'passenger_count', y = 'trip_distance')\n",
        "plt.title('Median distance travelled by passenger count')\n",
        "\n",
        "plt.show()"
      ],
      "execution_count": 15,
      "outputs": [
        {
          "output_type": "display_data",
          "data": {
            "image/png": "[encoded data removed]",
            "text/plain": [
              "<matplotlib.figure.Figure at 0x7f5929acca58>"
            ]
          },
          "metadata": {
            "tags": []
          }
        }
      ]
    },
    {
      "metadata": {
        "id": "0oFTizhsgM4p",
        "colab_type": "code",
        "colab": {}
      },
      "cell_type": "code",
      "source": [
        "#The above data shows that there is little to no relationship between these variables when passenger number is 0-6. \n",
        "#There seems to be a positive (but not totally linear) correlation above 6 passengers"
      ],
      "execution_count": 0,
      "outputs": []
    },
    {
      "metadata": {
        "id": "thBIW45wmAJD",
        "colab_type": "text"
      },
      "cell_type": "markdown",
      "source": [
        "**6. Create a new column payment_type_text that is 'Cash' if payment_type is 2 and 'Other' otherwise.**"
      ]
    },
    {
      "metadata": {
        "id": "0KdocMQ8xk2R",
        "colab_type": "code",
        "colab": {
          "base_uri": "https://localhost:8080/",
          "height": 224
        },
        "outputId": "18f59eed-dace-4769-c7cc-59b55b3dd963"
      },
      "cell_type": "code",
      "source": [
        "df[\"payment_type_text\"] = np.where(df.eval('payment_type == 2'), \"Cash\", \"Other\")\n",
        "df.head()"
      ],
      "execution_count": 17,
      "outputs": [
        {
          "output_type": "execute_result",
          "data": {
            "text/html": [
              "<div>\n",
              "<style scoped>\n",
              "    .dataframe tbody tr th:only-of-type {\n",
              "        vertical-align: middle;\n",
              "    }\n",
              "\n",
              "    .dataframe tbody tr th {\n",
              "        vertical-align: top;\n",
              "    }\n",
              "\n",
              "    .dataframe thead th {\n",
              "        text-align: right;\n",
              "    }\n",
              "</style>\n",
              "<table border=\"1\" class=\"dataframe\">\n",
              "  <thead>\n",
              "    <tr style=\"text-align: right;\">\n",
              "      <th></th>\n",
              "      <th>VendorID</th>\n",
              "      <th>tpep_pickup_datetime</th>\n",
              "      <th>tpep_dropoff_datetime</th>\n",
              "      <th>passenger_count</th>\n",
              "      <th>trip_distance</th>\n",
              "      <th>RatecodeID</th>\n",
              "      <th>store_and_fwd_flag</th>\n",
              "      <th>PULocationID</th>\n",
              "      <th>DOLocationID</th>\n",
              "      <th>payment_type</th>\n",
              "      <th>fare_amount</th>\n",
              "      <th>extra</th>\n",
              "      <th>mta_tax</th>\n",
              "      <th>tip_amount</th>\n",
              "      <th>tolls_amount</th>\n",
              "      <th>improvement_surcharge</th>\n",
              "      <th>total_amount</th>\n",
              "      <th>payment_type_text</th>\n",
              "    </tr>\n",
              "  </thead>\n",
              "  <tbody>\n",
              "    <tr>\n",
              "      <th>0</th>\n",
              "      <td>1</td>\n",
              "      <td>2017-10-01 00:01:50</td>\n",
              "      <td>2017-10-01 00:14:13</td>\n",
              "      <td>1</td>\n",
              "      <td>2.00</td>\n",
              "      <td>1</td>\n",
              "      <td>N</td>\n",
              "      <td>142</td>\n",
              "      <td>233</td>\n",
              "      <td>2</td>\n",
              "      <td>10.0</td>\n",
              "      <td>0.5</td>\n",
              "      <td>0.5</td>\n",
              "      <td>0.00</td>\n",
              "      <td>0.0</td>\n",
              "      <td>0.3</td>\n",
              "      <td>11.30</td>\n",
              "      <td>Cash</td>\n",
              "    </tr>\n",
              "    <tr>\n",
              "      <th>1</th>\n",
              "      <td>1</td>\n",
              "      <td>2017-10-01 00:02:43</td>\n",
              "      <td>2017-10-01 00:08:35</td>\n",
              "      <td>2</td>\n",
              "      <td>2.30</td>\n",
              "      <td>1</td>\n",
              "      <td>N</td>\n",
              "      <td>142</td>\n",
              "      <td>166</td>\n",
              "      <td>1</td>\n",
              "      <td>8.0</td>\n",
              "      <td>0.5</td>\n",
              "      <td>0.5</td>\n",
              "      <td>1.85</td>\n",
              "      <td>0.0</td>\n",
              "      <td>0.3</td>\n",
              "      <td>11.15</td>\n",
              "      <td>Other</td>\n",
              "    </tr>\n",
              "    <tr>\n",
              "      <th>2</th>\n",
              "      <td>1</td>\n",
              "      <td>2017-10-01 00:12:08</td>\n",
              "      <td>2017-10-01 00:25:49</td>\n",
              "      <td>3</td>\n",
              "      <td>2.80</td>\n",
              "      <td>1</td>\n",
              "      <td>N</td>\n",
              "      <td>151</td>\n",
              "      <td>262</td>\n",
              "      <td>1</td>\n",
              "      <td>13.0</td>\n",
              "      <td>0.5</td>\n",
              "      <td>0.5</td>\n",
              "      <td>1.72</td>\n",
              "      <td>0.0</td>\n",
              "      <td>0.3</td>\n",
              "      <td>16.02</td>\n",
              "      <td>Other</td>\n",
              "    </tr>\n",
              "    <tr>\n",
              "      <th>3</th>\n",
              "      <td>2</td>\n",
              "      <td>2017-10-01 00:00:25</td>\n",
              "      <td>2017-10-01 00:11:24</td>\n",
              "      <td>1</td>\n",
              "      <td>1.97</td>\n",
              "      <td>1</td>\n",
              "      <td>N</td>\n",
              "      <td>100</td>\n",
              "      <td>229</td>\n",
              "      <td>1</td>\n",
              "      <td>9.5</td>\n",
              "      <td>0.5</td>\n",
              "      <td>0.5</td>\n",
              "      <td>1.00</td>\n",
              "      <td>0.0</td>\n",
              "      <td>0.3</td>\n",
              "      <td>11.80</td>\n",
              "      <td>Other</td>\n",
              "    </tr>\n",
              "    <tr>\n",
              "      <th>4</th>\n",
              "      <td>2</td>\n",
              "      <td>2017-10-01 00:15:30</td>\n",
              "      <td>2017-10-01 00:25:11</td>\n",
              "      <td>1</td>\n",
              "      <td>2.17</td>\n",
              "      <td>1</td>\n",
              "      <td>N</td>\n",
              "      <td>141</td>\n",
              "      <td>142</td>\n",
              "      <td>1</td>\n",
              "      <td>9.0</td>\n",
              "      <td>0.5</td>\n",
              "      <td>0.5</td>\n",
              "      <td>2.06</td>\n",
              "      <td>0.0</td>\n",
              "      <td>0.3</td>\n",
              "      <td>12.36</td>\n",
              "      <td>Other</td>\n",
              "    </tr>\n",
              "  </tbody>\n",
              "</table>\n",
              "</div>"
            ],
            "text/plain": [
              "   VendorID tpep_pickup_datetime tpep_dropoff_datetime  passenger_count  \\\n",
              "0         1  2017-10-01 00:01:50   2017-10-01 00:14:13                1   \n",
              "1         1  2017-10-01 00:02:43   2017-10-01 00:08:35                2   \n",
              "2         1  2017-10-01 00:12:08   2017-10-01 00:25:49                3   \n",
              "3         2  2017-10-01 00:00:25   2017-10-01 00:11:24                1   \n",
              "4         2  2017-10-01 00:15:30   2017-10-01 00:25:11                1   \n",
              "\n",
              "   trip_distance  RatecodeID store_and_fwd_flag  PULocationID  DOLocationID  \\\n",
              "0           2.00           1                  N           142           233   \n",
              "1           2.30           1                  N           142           166   \n",
              "2           2.80           1                  N           151           262   \n",
              "3           1.97           1                  N           100           229   \n",
              "4           2.17           1                  N           141           142   \n",
              "\n",
              "   payment_type  fare_amount  extra  mta_tax  tip_amount  tolls_amount  \\\n",
              "0             2         10.0    0.5      0.5        0.00           0.0   \n",
              "1             1          8.0    0.5      0.5        1.85           0.0   \n",
              "2             1         13.0    0.5      0.5        1.72           0.0   \n",
              "3             1          9.5    0.5      0.5        1.00           0.0   \n",
              "4             1          9.0    0.5      0.5        2.06           0.0   \n",
              "\n",
              "   improvement_surcharge  total_amount payment_type_text  \n",
              "0                    0.3         11.30              Cash  \n",
              "1                    0.3         11.15             Other  \n",
              "2                    0.3         16.02             Other  \n",
              "3                    0.3         11.80             Other  \n",
              "4                    0.3         12.36             Other  "
            ]
          },
          "metadata": {
            "tags": []
          },
          "execution_count": 17
        }
      ]
    },
    {
      "metadata": {
        "id": "sWFqAC9cmBk0",
        "colab_type": "text"
      },
      "cell_type": "markdown",
      "source": [
        "**7. Bonus points: what is the correlation between leaving no tip and paying with cash?**"
      ]
    },
    {
      "metadata": {
        "id": "l3XU4CKQ6jXT",
        "colab_type": "code",
        "colab": {
          "base_uri": "https://localhost:8080/",
          "height": 224
        },
        "outputId": "0fcb656b-c231-4318-ddf4-333158257059"
      },
      "cell_type": "code",
      "source": [
        "#Correlations between two binary variables (cash v. not cash & tip v. no tip) feel wrong for me\n",
        "#I instead cross-tabbed these two columns to look at incidence\n",
        "#First step is to create a new column distilling tip amount into binary variables (tip v. no_tip )\n",
        "\n",
        "df[\"tip_binary\"] = np.where(df.eval('tip_amount == 0'), \"no_tip\", \"tip\")\n",
        "df.head()"
      ],
      "execution_count": 18,
      "outputs": [
        {
          "output_type": "execute_result",
          "data": {
            "text/html": [
              "<div>\n",
              "<style scoped>\n",
              "    .dataframe tbody tr th:only-of-type {\n",
              "        vertical-align: middle;\n",
              "    }\n",
              "\n",
              "    .dataframe tbody tr th {\n",
              "        vertical-align: top;\n",
              "    }\n",
              "\n",
              "    .dataframe thead th {\n",
              "        text-align: right;\n",
              "    }\n",
              "</style>\n",
              "<table border=\"1\" class=\"dataframe\">\n",
              "  <thead>\n",
              "    <tr style=\"text-align: right;\">\n",
              "      <th></th>\n",
              "      <th>VendorID</th>\n",
              "      <th>tpep_pickup_datetime</th>\n",
              "      <th>tpep_dropoff_datetime</th>\n",
              "      <th>passenger_count</th>\n",
              "      <th>trip_distance</th>\n",
              "      <th>RatecodeID</th>\n",
              "      <th>store_and_fwd_flag</th>\n",
              "      <th>PULocationID</th>\n",
              "      <th>DOLocationID</th>\n",
              "      <th>payment_type</th>\n",
              "      <th>fare_amount</th>\n",
              "      <th>extra</th>\n",
              "      <th>mta_tax</th>\n",
              "      <th>tip_amount</th>\n",
              "      <th>tolls_amount</th>\n",
              "      <th>improvement_surcharge</th>\n",
              "      <th>total_amount</th>\n",
              "      <th>payment_type_text</th>\n",
              "      <th>tip_binary</th>\n",
              "    </tr>\n",
              "  </thead>\n",
              "  <tbody>\n",
              "    <tr>\n",
              "      <th>0</th>\n",
              "      <td>1</td>\n",
              "      <td>2017-10-01 00:01:50</td>\n",
              "      <td>2017-10-01 00:14:13</td>\n",
              "      <td>1</td>\n",
              "      <td>2.00</td>\n",
              "      <td>1</td>\n",
              "      <td>N</td>\n",
              "      <td>142</td>\n",
              "      <td>233</td>\n",
              "      <td>2</td>\n",
              "      <td>10.0</td>\n",
              "      <td>0.5</td>\n",
              "      <td>0.5</td>\n",
              "      <td>0.00</td>\n",
              "      <td>0.0</td>\n",
              "      <td>0.3</td>\n",
              "      <td>11.30</td>\n",
              "      <td>Cash</td>\n",
              "      <td>no_tip</td>\n",
              "    </tr>\n",
              "    <tr>\n",
              "      <th>1</th>\n",
              "      <td>1</td>\n",
              "      <td>2017-10-01 00:02:43</td>\n",
              "      <td>2017-10-01 00:08:35</td>\n",
              "      <td>2</td>\n",
              "      <td>2.30</td>\n",
              "      <td>1</td>\n",
              "      <td>N</td>\n",
              "      <td>142</td>\n",
              "      <td>166</td>\n",
              "      <td>1</td>\n",
              "      <td>8.0</td>\n",
              "      <td>0.5</td>\n",
              "      <td>0.5</td>\n",
              "      <td>1.85</td>\n",
              "      <td>0.0</td>\n",
              "      <td>0.3</td>\n",
              "      <td>11.15</td>\n",
              "      <td>Other</td>\n",
              "      <td>tip</td>\n",
              "    </tr>\n",
              "    <tr>\n",
              "      <th>2</th>\n",
              "      <td>1</td>\n",
              "      <td>2017-10-01 00:12:08</td>\n",
              "      <td>2017-10-01 00:25:49</td>\n",
              "      <td>3</td>\n",
              "      <td>2.80</td>\n",
              "      <td>1</td>\n",
              "      <td>N</td>\n",
              "      <td>151</td>\n",
              "      <td>262</td>\n",
              "      <td>1</td>\n",
              "      <td>13.0</td>\n",
              "      <td>0.5</td>\n",
              "      <td>0.5</td>\n",
              "      <td>1.72</td>\n",
              "      <td>0.0</td>\n",
              "      <td>0.3</td>\n",
              "      <td>16.02</td>\n",
              "      <td>Other</td>\n",
              "      <td>tip</td>\n",
              "    </tr>\n",
              "    <tr>\n",
              "      <th>3</th>\n",
              "      <td>2</td>\n",
              "      <td>2017-10-01 00:00:25</td>\n",
              "      <td>2017-10-01 00:11:24</td>\n",
              "      <td>1</td>\n",
              "      <td>1.97</td>\n",
              "      <td>1</td>\n",
              "      <td>N</td>\n",
              "      <td>100</td>\n",
              "      <td>229</td>\n",
              "      <td>1</td>\n",
              "      <td>9.5</td>\n",
              "      <td>0.5</td>\n",
              "      <td>0.5</td>\n",
              "      <td>1.00</td>\n",
              "      <td>0.0</td>\n",
              "      <td>0.3</td>\n",
              "      <td>11.80</td>\n",
              "      <td>Other</td>\n",
              "      <td>tip</td>\n",
              "    </tr>\n",
              "    <tr>\n",
              "      <th>4</th>\n",
              "      <td>2</td>\n",
              "      <td>2017-10-01 00:15:30</td>\n",
              "      <td>2017-10-01 00:25:11</td>\n",
              "      <td>1</td>\n",
              "      <td>2.17</td>\n",
              "      <td>1</td>\n",
              "      <td>N</td>\n",
              "      <td>141</td>\n",
              "      <td>142</td>\n",
              "      <td>1</td>\n",
              "      <td>9.0</td>\n",
              "      <td>0.5</td>\n",
              "      <td>0.5</td>\n",
              "      <td>2.06</td>\n",
              "      <td>0.0</td>\n",
              "      <td>0.3</td>\n",
              "      <td>12.36</td>\n",
              "      <td>Other</td>\n",
              "      <td>tip</td>\n",
              "    </tr>\n",
              "  </tbody>\n",
              "</table>\n",
              "</div>"
            ],
            "text/plain": [
              "   VendorID tpep_pickup_datetime tpep_dropoff_datetime  passenger_count  \\\n",
              "0         1  2017-10-01 00:01:50   2017-10-01 00:14:13                1   \n",
              "1         1  2017-10-01 00:02:43   2017-10-01 00:08:35                2   \n",
              "2         1  2017-10-01 00:12:08   2017-10-01 00:25:49                3   \n",
              "3         2  2017-10-01 00:00:25   2017-10-01 00:11:24                1   \n",
              "4         2  2017-10-01 00:15:30   2017-10-01 00:25:11                1   \n",
              "\n",
              "   trip_distance  RatecodeID store_and_fwd_flag  PULocationID  DOLocationID  \\\n",
              "0           2.00           1                  N           142           233   \n",
              "1           2.30           1                  N           142           166   \n",
              "2           2.80           1                  N           151           262   \n",
              "3           1.97           1                  N           100           229   \n",
              "4           2.17           1                  N           141           142   \n",
              "\n",
              "   payment_type  fare_amount  extra  mta_tax  tip_amount  tolls_amount  \\\n",
              "0             2         10.0    0.5      0.5        0.00           0.0   \n",
              "1             1          8.0    0.5      0.5        1.85           0.0   \n",
              "2             1         13.0    0.5      0.5        1.72           0.0   \n",
              "3             1          9.5    0.5      0.5        1.00           0.0   \n",
              "4             1          9.0    0.5      0.5        2.06           0.0   \n",
              "\n",
              "   improvement_surcharge  total_amount payment_type_text tip_binary  \n",
              "0                    0.3         11.30              Cash     no_tip  \n",
              "1                    0.3         11.15             Other        tip  \n",
              "2                    0.3         16.02             Other        tip  \n",
              "3                    0.3         11.80             Other        tip  \n",
              "4                    0.3         12.36             Other        tip  "
            ]
          },
          "metadata": {
            "tags": []
          },
          "execution_count": 18
        }
      ]
    },
    {
      "metadata": {
        "id": "J8lp1nZJ6rqX",
        "colab_type": "code",
        "colab": {
          "base_uri": "https://localhost:8080/",
          "height": 119
        },
        "outputId": "302e5c23-f14d-4db8-9bba-39d7e773e69b"
      },
      "cell_type": "code",
      "source": [
        "#groupby payment type, and then tip \n",
        "\n",
        "df.groupby(['payment_type_text', 'tip_binary']).size() / len(df)"
      ],
      "execution_count": 19,
      "outputs": [
        {
          "output_type": "execute_result",
          "data": {
            "text/plain": [
              "payment_type_text  tip_binary\n",
              "Cash               no_tip        3.123914e-01\n",
              "                   tip           4.124369e-07\n",
              "Other              no_tip        3.489752e-02\n",
              "                   tip           6.527106e-01\n",
              "dtype: float64"
            ]
          },
          "metadata": {
            "tags": []
          },
          "execution_count": 19
        }
      ]
    },
    {
      "metadata": {
        "id": "l5rI06_uiAuw",
        "colab_type": "code",
        "colab": {
          "base_uri": "https://localhost:8080/",
          "height": 142
        },
        "outputId": "15552dec-6454-4fbf-b2ad-e6a35fff5fd8"
      },
      "cell_type": "code",
      "source": [
        "_19.unstack()"
      ],
      "execution_count": 22,
      "outputs": [
        {
          "output_type": "execute_result",
          "data": {
            "text/html": [
              "<div>\n",
              "<style scoped>\n",
              "    .dataframe tbody tr th:only-of-type {\n",
              "        vertical-align: middle;\n",
              "    }\n",
              "\n",
              "    .dataframe tbody tr th {\n",
              "        vertical-align: top;\n",
              "    }\n",
              "\n",
              "    .dataframe thead th {\n",
              "        text-align: right;\n",
              "    }\n",
              "</style>\n",
              "<table border=\"1\" class=\"dataframe\">\n",
              "  <thead>\n",
              "    <tr style=\"text-align: right;\">\n",
              "      <th>tip_binary</th>\n",
              "      <th>no_tip</th>\n",
              "      <th>tip</th>\n",
              "    </tr>\n",
              "    <tr>\n",
              "      <th>payment_type_text</th>\n",
              "      <th></th>\n",
              "      <th></th>\n",
              "    </tr>\n",
              "  </thead>\n",
              "  <tbody>\n",
              "    <tr>\n",
              "      <th>Cash</th>\n",
              "      <td>0.312391</td>\n",
              "      <td>4.124369e-07</td>\n",
              "    </tr>\n",
              "    <tr>\n",
              "      <th>Other</th>\n",
              "      <td>0.034898</td>\n",
              "      <td>6.527106e-01</td>\n",
              "    </tr>\n",
              "  </tbody>\n",
              "</table>\n",
              "</div>"
            ],
            "text/plain": [
              "tip_binary           no_tip           tip\n",
              "payment_type_text                        \n",
              "Cash               0.312391  4.124369e-07\n",
              "Other              0.034898  6.527106e-01"
            ]
          },
          "metadata": {
            "tags": []
          },
          "execution_count": 22
        }
      ]
    },
    {
      "metadata": {
        "id": "LvTmS-FduhyA",
        "colab_type": "code",
        "colab": {
          "base_uri": "https://localhost:8080/",
          "height": 34
        },
        "outputId": "2108ae3a-8565-43c5-e891-74a90b359e28"
      },
      "cell_type": "code",
      "source": [
        "#checking the workings\n",
        "\n",
        "_19.sum()"
      ],
      "execution_count": 23,
      "outputs": [
        {
          "output_type": "execute_result",
          "data": {
            "text/plain": [
              "1.0"
            ]
          },
          "metadata": {
            "tags": []
          },
          "execution_count": 23
        }
      ]
    },
    {
      "metadata": {
        "id": "Gn8tg3zCk0FL",
        "colab_type": "code",
        "colab": {
          "base_uri": "https://localhost:8080/",
          "height": 68
        },
        "outputId": "046b5ac9-a81f-441d-c95e-d1b0bfbfb9c9"
      },
      "cell_type": "code",
      "source": [
        "df.loc[df['tip_binary'] == 'no_tip', 'payment_type_text'].value_counts(normalize=True)"
      ],
      "execution_count": 24,
      "outputs": [
        {
          "output_type": "execute_result",
          "data": {
            "text/plain": [
              "Cash     0.899514\n",
              "Other    0.100486\n",
              "Name: payment_type_text, dtype: float64"
            ]
          },
          "metadata": {
            "tags": []
          },
          "execution_count": 24
        }
      ]
    },
    {
      "metadata": {
        "id": "R3SIX15izH8E",
        "colab_type": "code",
        "colab": {}
      },
      "cell_type": "code",
      "source": [
        "#The above shows that for people who gave no tip, 90% paid with cash, and 10% used another payment type"
      ],
      "execution_count": 0,
      "outputs": []
    },
    {
      "metadata": {
        "id": "Ijx06_dHzR_Y",
        "colab_type": "code",
        "colab": {
          "base_uri": "https://localhost:8080/",
          "height": 68
        },
        "outputId": "92c2f084-5bcd-4563-e504-3e1e89f0bd32"
      },
      "cell_type": "code",
      "source": [
        "df.loc[df['tip_binary'] == 'tip', 'payment_type_text'].value_counts(normalize=True)"
      ],
      "execution_count": 25,
      "outputs": [
        {
          "output_type": "execute_result",
          "data": {
            "text/plain": [
              "Other    9.999994e-01\n",
              "Cash     6.318828e-07\n",
              "Name: payment_type_text, dtype: float64"
            ]
          },
          "metadata": {
            "tags": []
          },
          "execution_count": 25
        }
      ]
    },
    {
      "metadata": {
        "id": "jdCRII5szYIa",
        "colab_type": "code",
        "colab": {}
      },
      "cell_type": "code",
      "source": [
        "#The above shows that for people who gave a tip, 100% did NOT pay with cash\n",
        "#There is a very strong negative relationship between leaving no tip and paying cash\n",
        "\n",
        "#This is not saying that passengers don't leave tips if they pay cash, it's rather saying that drivers don't record tips if it is in cash"
      ],
      "execution_count": 0,
      "outputs": []
    }
  ]
}